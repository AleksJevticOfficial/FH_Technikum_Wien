{
 "cells": [
  {
   "cell_type": "markdown",
   "id": "excellent-hudson",
   "metadata": {
    "internals": {
     "slide_type": "subslide"
    },
    "slideshow": {
     "slide_type": "slide"
    }
   },
   "source": [
    "Some Python Basics (iPython Notebook)\n",
    "================================="
   ]
  },
  {
   "cell_type": "markdown",
   "id": "elect-friend",
   "metadata": {
    "internals": {
     "frag_helper": "fragment_end",
     "frag_number": 37,
     "slide_type": "subslide"
    },
    "slideshow": {
     "slide_type": "slide"
    }
   },
   "source": [
    "Very important references\n",
    "=====================\n",
    "\n",
    "* PEP 8 - Style Guide for Python Code: https://www.python.org/dev/peps/pep-0008/\n",
    "* Python 3 Documentation: https://docs.python.org/3/"
   ]
  },
  {
   "cell_type": "markdown",
   "id": "empty-bacon",
   "metadata": {},
   "source": [
    "### Exercise 1.1: Implement a recursive variant of mult() and measure the runtime."
   ]
  },
  {
   "cell_type": "code",
   "execution_count": 5,
   "id": "immune-candle",
   "metadata": {},
   "outputs": [
    {
     "name": "stdout",
     "output_type": "stream",
     "text": [
      "1.22 µs ± 48.3 ns per loop (mean ± std. dev. of 7 runs, 1000000 loops each)\n"
     ]
    }
   ],
   "source": [
    "#SOLUTION EXC 1.1\n",
    "def mult(array):\n",
    "    if len(array)==1:\n",
    "        return array[0]\n",
    "    else:\n",
    "        return mult(array[1:])*array[0]\n",
    "    \n",
    "%timeit mult([1,2,3,4,5])\n",
    "        \n"
   ]
  },
  {
   "cell_type": "markdown",
   "id": "appropriate-broad",
   "metadata": {},
   "source": [
    "### Exercise 1.2: Take the following list and write a program that prints out all the elements of the list that are less than 5."
   ]
  },
  {
   "cell_type": "code",
   "execution_count": 6,
   "id": "dangerous-acceptance",
   "metadata": {},
   "outputs": [],
   "source": [
    "a = [1, 1, 2, 3, 5, 8, 13, 21, 34, 55, 89]"
   ]
  },
  {
   "cell_type": "code",
   "execution_count": 8,
   "id": "pursuant-kuwait",
   "metadata": {},
   "outputs": [
    {
     "name": "stdout",
     "output_type": "stream",
     "text": [
      "1\n",
      "1\n",
      "2\n",
      "3\n"
     ]
    }
   ],
   "source": [
    "#SOLUTION EXC 1.2\n",
    "for i in a:\n",
    "    if i < 5:\n",
    "        print(i)"
   ]
  },
  {
   "cell_type": "markdown",
   "id": "selective-tours",
   "metadata": {},
   "source": [
    "### Exercise 1.3: Take the following two lists and write a program that returns a list that contains all elements of the lists (without duplicates). Make sure your program works on two lists of different sizes. Moreover, try to find a 1-line-solution (using sets)."
   ]
  },
  {
   "cell_type": "code",
   "execution_count": 2,
   "id": "immune-orchestra",
   "metadata": {},
   "outputs": [],
   "source": [
    "import random\n",
    "a = random.sample(range(1, 100), 10)\n",
    "b = random.sample(range(1, 100), 12)"
   ]
  },
  {
   "cell_type": "code",
   "execution_count": 4,
   "id": "hairy-notice",
   "metadata": {},
   "outputs": [
    {
     "name": "stdout",
     "output_type": "stream",
     "text": [
      "[1, 14, 17, 18, 20, 25, 33, 42, 44, 45, 50, 56, 60, 61, 76, 79, 92, 97, 99]\n"
     ]
    }
   ],
   "source": [
    "#SOLUTION EXC 1.3\n",
    "print([x for x in set(a + b)])"
   ]
  },
  {
   "cell_type": "markdown",
   "id": "medical-sandwich",
   "metadata": {},
   "source": [
    "### Exercise 1.4: Implement a function that takes as input three variables, and returns the largest of the three. Do this without using the Python max() function!"
   ]
  },
  {
   "cell_type": "code",
   "execution_count": 21,
   "id": "parliamentary-adult",
   "metadata": {},
   "outputs": [],
   "source": [
    "#SOLUTION EXC 1.4\n",
    "def function(v1,v2,v3):\n",
    "    if(v1>v2):\n",
    "        if(v1>v3):\n",
    "            return v1\n",
    "    if(v3>v2):\n",
    "        return v3\n",
    "    else:\n",
    "        return v2"
   ]
  },
  {
   "cell_type": "markdown",
   "id": "thousand-suspension",
   "metadata": {},
   "source": [
    "### Exercise 1.5: Write a Python program to concatenate following dictionaries to create a new one."
   ]
  },
  {
   "cell_type": "code",
   "execution_count": 22,
   "id": "weighted-lesbian",
   "metadata": {},
   "outputs": [],
   "source": [
    "dic1={1:10, 2:20}\n",
    "dic2={3:30, 4:40}\n",
    "dic3={5:50, 6:60}"
   ]
  },
  {
   "cell_type": "code",
   "execution_count": 30,
   "id": "reliable-victory",
   "metadata": {},
   "outputs": [
    {
     "name": "stdout",
     "output_type": "stream",
     "text": [
      "{1: 10, 2: 20, 3: 30, 4: 40, 5: 50, 6: 60}\n"
     ]
    }
   ],
   "source": [
    "#SOLUTION EXC 1.5\n",
    "dict_total = {}\n",
    "for dic in [dic1,dic2,dic3]:\n",
    "    for k,v in dic.items():\n",
    "        dict_total[k]=v;\n",
    "print(dict_total)\n",
    "        "
   ]
  },
  {
   "cell_type": "markdown",
   "id": "mexican-address",
   "metadata": {},
   "source": [
    "### Exercise 1.6: Write a Python program to sort the following list alphabetically in a dictionary."
   ]
  },
  {
   "cell_type": "code",
   "execution_count": 5,
   "id": "subtle-permit",
   "metadata": {},
   "outputs": [],
   "source": [
    "num = {'n1': [2, 3, 1], 'n2': [5, 1, 2], 'n3': [3, 2, 4]}"
   ]
  },
  {
   "cell_type": "code",
   "execution_count": 6,
   "id": "surrounded-france",
   "metadata": {},
   "outputs": [
    {
     "name": "stdout",
     "output_type": "stream",
     "text": [
      "{'n1': [1, 2, 3], 'n2': [1, 2, 5], 'n3': [2, 3, 4]}\n"
     ]
    }
   ],
   "source": [
    "#SOLUTION EXC 1.7\n",
    "sorted_nums = {}\n",
    "for k,v in num.items():\n",
    "    sorted_nums[k] = sorted(v)\n",
    "print(sorted_nums)"
   ]
  },
  {
   "cell_type": "markdown",
   "id": "million-usage",
   "metadata": {},
   "source": [
    "### Exercise 1.7: Generate a random number between 1 and 25 (including 1 and 25). Ask the user to guess the number, then tell them whether they guessed too low, too high, or exactly right. Remark: Import and use the random library."
   ]
  },
  {
   "cell_type": "code",
   "execution_count": 59,
   "id": "unavailable-frederick",
   "metadata": {},
   "outputs": [],
   "source": [
    "\n",
    "# generate a random number\n",
    "import random\n",
    "number = random.randint(1,25)\n"
   ]
  },
  {
   "cell_type": "code",
   "execution_count": 7,
   "id": "talented-angle",
   "metadata": {},
   "outputs": [
    {
     "name": "stdout",
     "output_type": "stream",
     "text": [
      ":a\n"
     ]
    },
    {
     "ename": "ValueError",
     "evalue": "invalid literal for int() with base 10: 'a'",
     "output_type": "error",
     "traceback": [
      "\u001b[1;31m---------------------------------------------------------------------------\u001b[0m",
      "\u001b[1;31mValueError\u001b[0m                                Traceback (most recent call last)",
      "\u001b[1;32m<ipython-input-7-922b12827616>\u001b[0m in \u001b[0;36m<module>\u001b[1;34m\u001b[0m\n\u001b[0;32m      3\u001b[0m     \u001b[0mx\u001b[0m \u001b[1;33m=\u001b[0m \u001b[0minput\u001b[0m\u001b[1;33m(\u001b[0m\u001b[1;34m\":\"\u001b[0m\u001b[1;33m)\u001b[0m\u001b[1;33m\u001b[0m\u001b[1;33m\u001b[0m\u001b[0m\n\u001b[0;32m      4\u001b[0m     \u001b[1;32mif\u001b[0m\u001b[1;33m(\u001b[0m\u001b[0mx\u001b[0m \u001b[1;33m!=\u001b[0m \u001b[1;34m\"\"\u001b[0m\u001b[1;33m)\u001b[0m\u001b[1;33m:\u001b[0m\u001b[1;33m\u001b[0m\u001b[1;33m\u001b[0m\u001b[0m\n\u001b[1;32m----> 5\u001b[1;33m         \u001b[0mx\u001b[0m \u001b[1;33m=\u001b[0m \u001b[0mint\u001b[0m\u001b[1;33m(\u001b[0m\u001b[0mx\u001b[0m\u001b[1;33m)\u001b[0m\u001b[1;33m\u001b[0m\u001b[1;33m\u001b[0m\u001b[0m\n\u001b[0m\u001b[0;32m      6\u001b[0m     \u001b[1;32melse\u001b[0m\u001b[1;33m:\u001b[0m\u001b[1;33m\u001b[0m\u001b[1;33m\u001b[0m\u001b[0m\n\u001b[0;32m      7\u001b[0m         \u001b[1;32mcontinue\u001b[0m\u001b[1;33m\u001b[0m\u001b[1;33m\u001b[0m\u001b[0m\n",
      "\u001b[1;31mValueError\u001b[0m: invalid literal for int() with base 10: 'a'"
     ]
    }
   ],
   "source": [
    "#SOLUTION EXC 1.7\n",
    "while(42):\n",
    "    x = input(\":\")\n",
    "    if(x != \"\"):\n",
    "        try:\n",
    "            x = int(x)\n",
    "        except:\n",
    "            print(\"needs a number.\")\n",
    "    else:\n",
    "        continue\n",
    "    if(x == number):\n",
    "        print(\"exactly right. {} was the number.\".format(x))\n",
    "        break\n",
    "    elif(x>number):\n",
    "        print(\"{} is too high.\".format(x))\n",
    "    else:\n",
    "        print(\"{} is too low\".format(x))\n",
    "    "
   ]
  },
  {
   "cell_type": "code",
   "execution_count": null,
   "id": "supreme-slope",
   "metadata": {},
   "outputs": [],
   "source": []
  },
  {
   "cell_type": "code",
   "execution_count": null,
   "id": "empirical-botswana",
   "metadata": {},
   "outputs": [],
   "source": []
  }
 ],
 "metadata": {
  "kernelspec": {
   "display_name": "Python [conda env:.conda-AI_SS2020] *",
   "language": "python",
   "name": "conda-env-.conda-AI_SS2020-py"
  },
  "language_info": {
   "codemirror_mode": {
    "name": "ipython",
    "version": 3
   },
   "file_extension": ".py",
   "mimetype": "text/x-python",
   "name": "python",
   "nbconvert_exporter": "python",
   "pygments_lexer": "ipython3",
   "version": "3.8.8"
  }
 },
 "nbformat": 4,
 "nbformat_minor": 5
}
